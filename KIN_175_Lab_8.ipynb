{
 "cells": [
  {
   "cell_type": "code",
   "execution_count": 167,
   "id": "0bd2f653-37cd-4dbf-83bf-2bdbc2b6a9e6",
   "metadata": {},
   "outputs": [],
   "source": [
    "import pandas as pd\n",
    "import numpy as np"
   ]
  },
  {
   "cell_type": "code",
   "execution_count": 168,
   "id": "6926e1c7-8fc4-4eec-b7bb-c35870196531",
   "metadata": {},
   "outputs": [
    {
     "name": "stdout",
     "output_type": "stream",
     "text": [
      "    ID teamname  swim1  bike1  walk_run1  swim2  bike2  walk_run2     swim3  \\\n",
      "0    1     blue   0.90    2.0       5.00   0.00   24.0       3.00  0.000000   \n",
      "1    2     blue   0.50    2.5       0.00   0.00    8.0       0.00  0.000000   \n",
      "2    3     blue   5.00    0.0       0.00   0.00    5.0       5.00  0.000000   \n",
      "3    4     blue   0.34    0.0       0.00   0.00    0.0       0.00  0.000000   \n",
      "4    5     blue   0.00    7.5       4.00   0.00   16.0       0.00  0.000000   \n",
      "5    6     blue   0.00    2.0      15.00   0.00   24.0       0.00  0.000000   \n",
      "6    7     blue   0.00    5.0       3.50   0.00    2.0       2.00  0.000000   \n",
      "7    8     blue   0.34   20.0       2.50   0.00    0.0       0.00  0.000000   \n",
      "8    9     blue   0.36    0.0      11.60   0.00   25.0      13.00  0.000000   \n",
      "9   10     blue   0.00   13.0      11.50   0.00   24.0       0.00  0.000000   \n",
      "10  11    brown   0.00    0.0       4.00   0.00    0.0       5.00  0.000000   \n",
      "11  12    brown   0.00   24.0       6.00   0.00   24.0       8.00  0.000000   \n",
      "12  13    brown   0.00    2.0       6.00   0.00    0.0      10.00  0.000000   \n",
      "13  14    brown   2.05    0.0       0.00   1.40    0.0       0.00  1.980000   \n",
      "14  15    brown   0.00    0.0       3.00   0.00    0.0       3.00  0.000000   \n",
      "15  16    brown   0.00    0.0       5.00   0.00    6.0       8.60  2.000000   \n",
      "16  17    brown   0.00    3.0       6.00   0.00   24.0      10.00  0.000000   \n",
      "17  18    brown   3.00    0.0       0.00   3.00    1.0       1.00  2.000000   \n",
      "18  19    brown   0.00    0.0       1.00   0.00    6.0       5.00  0.000000   \n",
      "19  20    brown   0.00    0.0       0.00   0.00   10.0       4.00  0.000000   \n",
      "20  21   Yellow   0.00    0.0       8.75   0.00    0.0       6.15  0.000000   \n",
      "21  22   Yellow   0.00    0.0       3.00   0.25    0.0       5.00  0.850000   \n",
      "22  23   Yellow   0.00    4.5      12.30   0.00    2.5      16.50  0.000000   \n",
      "23  24   Yellow   0.00   15.0       4.00   0.50   15.0       4.00  0.284091   \n",
      "24  25   Yellow   0.00   14.3       6.40   0.60   12.8       8.30  0.500000   \n",
      "25  26   Yellow   0.00    0.0      21.50   0.00    0.0      23.70  0.000000   \n",
      "26  27   Yellow   0.25    5.0      15.00   0.00    5.0      31.50  0.000000   \n",
      "27  28   Yellow   1.00    0.0       3.75   2.00    5.0       3.50  2.000000   \n",
      "28  29   Yellow   0.00    0.0       4.00   0.00    0.0       4.00  0.000000   \n",
      "29  30   Yellow   0.00   15.5       4.50   3.00   15.0       5.00  1.250000   \n",
      "30  31     gold   0.90    0.0       1.40   1.00    0.0      34.00  2.500000   \n",
      "31  32     gold   0.00    0.0       0.00   0.00    0.0       0.00  0.000000   \n",
      "32  33     gold   0.50    0.0       0.00   0.00   22.0       4.00  0.000000   \n",
      "33  34     gold   1.00    5.0       3.00   0.00    9.0       3.00  0.000000   \n",
      "34  35     gold   1.50    5.0       3.00   0.00   10.0       2.00  0.000000   \n",
      "35  36     gold   0.00    0.0       6.00   0.00   14.0       6.00  0.500000   \n",
      "36  37     gold   0.00    3.0       2.00   0.00   10.0       6.00  0.000000   \n",
      "37  38     gold   0.00    0.0       0.00   0.00    0.0       0.00  0.000000   \n",
      "38  39     gold   0.00    0.0       0.00   0.00    0.0       0.00  0.000000   \n",
      "39  40     gold   0.00    0.0       0.00   0.00    0.0       3.00  0.000000   \n",
      "\n",
      "    bike3  walk_run3  swim4  bike4  walk_run4  age  gender area  data  \\\n",
      "0    0.00       0.00   0.00  10.00       1.00   19       2    1     4   \n",
      "1    0.00       0.00   0.00   0.00       0.00   20       1    5     3   \n",
      "2    0.00       0.00   0.00   0.00       0.00   20       2    1     4   \n",
      "3    0.00       0.00   0.00   0.00       0.00   21       1    1     4   \n",
      "4    0.00       2.50   0.00   7.00       4.50   21       2    1     3   \n",
      "5    7.00       9.00   0.00   6.00       5.00   22       2    3     4   \n",
      "6    0.00      10.00   0.00   0.00       0.00   23       2    5     4   \n",
      "7    0.00       0.00   0.00   0.00       0.00   25       2    1     3   \n",
      "8    0.00      16.00   0.00   0.00       0.00   25       1    3     2   \n",
      "9   11.50       8.00   0.00  64.00       0.00   32       1    1     4   \n",
      "10   0.00       5.00   0.00   0.00       5.00   20       2    4     2   \n",
      "11  16.00       8.00   0.00  12.00       6.00   21       2          2   \n",
      "12   3.00       7.00   0.00   3.00      10.00   21       2    1     3   \n",
      "13   0.00       0.00   0.85   0.00       0.00   21       1    5     2   \n",
      "14   0.00       4.00   0.00   6.00       6.00   21       1    4     3   \n",
      "15  10.00      12.50   0.00  11.00      12.00   22       2    1     2   \n",
      "16  30.00      10.00   0.00  33.00      10.00   22       2    3     2   \n",
      "17   0.50       1.50   2.00   0.50       1.50   22       2    3     2   \n",
      "18   3.00       7.00   0.00   5.00       8.00   24       2    4     3   \n",
      "19   3.00       7.00   0.00   0.00       0.00   24       1    1     4   \n",
      "20   3.41       8.12   0.00   0.00       7.20   23       1    1     2   \n",
      "21   0.00       7.00   0.85   0.00       8.00   23       2    2     2   \n",
      "22   0.00      19.70   0.00   0.00      14.20   23       2    5     2   \n",
      "23  15.00      10.00   0.80  20.00      10.00   23       1    4     3   \n",
      "24  17.60      11.30   0.00  26.20      17.40   24       1    3     2   \n",
      "25   0.00      35.30   0.00  21.50      28.70   24       1    5     3   \n",
      "26   5.00      22.00   0.00   0.00      21.50   24       1    5     3   \n",
      "27   4.75       4.00   1.50   4.75       5.00   26       1    1     3   \n",
      "28   0.00       5.00   0.00   0.00       2.00   26       1    5     3   \n",
      "29  15.00       6.00   1.25  16.00       6.00   30       2    3     2   \n",
      "30   0.00      40.43   1.00   0.00      24.37   20       1    1     4   \n",
      "31  10.00      12.00   0.00  19.00      14.00   21       1    1     3   \n",
      "32   0.00       0.00   0.00  12.00      17.00   22       1    1     2   \n",
      "33   0.00       0.00   0.00   0.00       0.00   22       1    5     4   \n",
      "34   5.00       3.00   3.00   0.00      10.00   23       2    1     3   \n",
      "35   0.00      10.00   0.00   0.00       0.00   26       1    3     2   \n",
      "36   0.00       0.00   0.00   0.00       0.00   26       1    1     3   \n",
      "37   0.00       0.00   0.00   0.00       0.00   26       2    1     2   \n",
      "38   0.00       0.00   0.00   0.00       0.00   27       1    1     3   \n",
      "39   0.00       0.00   0.00   0.00       0.00   27       2    5     2   \n",
      "\n",
      "          bmi  \n",
      "0   37.758789  \n",
      "1   23.625289  \n",
      "2   21.031478  \n",
      "3   23.053627  \n",
      "4   20.117066  \n",
      "5   24.442933  \n",
      "6   22.494583  \n",
      "7   23.490755  \n",
      "8   21.608970  \n",
      "9   25.056806  \n",
      "10  20.546233  \n",
      "11  24.958580  \n",
      "12  22.594123  \n",
      "13  21.284602  \n",
      "14  32.997959  \n",
      "15  29.472722  \n",
      "16  24.797178  \n",
      "17  25.014922  \n",
      "18  35.150000  \n",
      "19  21.453857  \n",
      "20  21.284602  \n",
      "21  24.182747  \n",
      "22  18.457257  \n",
      "23  24.363579  \n",
      "24  30.105324  \n",
      "25  25.033073  \n",
      "26  24.404880  \n",
      "27  23.490755  \n",
      "28  22.312012  \n",
      "29  25.859914  \n",
      "30  21.520408  \n",
      "31  22.375579  \n",
      "32  24.668981  \n",
      "33  30.427632  \n",
      "34  19.966864  \n",
      "35  23.490755  \n",
      "36  23.022695  \n",
      "37  19.764273  \n",
      "38  21.480556  \n",
      "39  21.480556  \n"
     ]
    }
   ],
   "source": [
    "lab8_df = pd.read_csv('/Users/spartan/Downloads/Lab8_datafile.csv')\n",
    "print(lab8_df)"
   ]
  },
  {
   "cell_type": "code",
   "execution_count": 169,
   "id": "a02c6096-b539-4331-a480-18eeb57d680f",
   "metadata": {},
   "outputs": [],
   "source": [
    "blue_rows = lab8_df[lab8_df['teamname'] == 'blue']\n",
    "brown_rows = lab8_df[lab8_df['teamname'] == 'brown']\n",
    "gold_rows = lab8_df[lab8_df['teamname'] == 'gold']\n",
    "yellow_rows = lab8_df[lab8_df['teamname'] == 'Yellow']\n",
    "alpha = 0.05"
   ]
  },
  {
   "cell_type": "code",
   "execution_count": 170,
   "id": "2ae37256-b38d-46d2-b8d7-cabed9e54f36",
   "metadata": {},
   "outputs": [
    {
     "name": "stdout",
     "output_type": "stream",
     "text": [
      "T-statistic: 0.40374226555577314\n",
      "P-value: 0.6911584054527417\n",
      "There are no significant differences between the groups.\n",
      "We accept the null hypothesis because P > 0.05\n"
     ]
    }
   ],
   "source": [
    "##Q1: Is there a significant difference in week 1 swim miles between team blue and team brown?\n",
    "\n",
    "blue_swim_1 = blue_rows['swim1']\n",
    "brown_swim_1 = brown_rows['swim1']\n",
    "\n",
    "from scipy.stats import ttest_ind\n",
    "t_stat, p_value = ttest_ind(blue_rows['swim1'], brown_rows['swim1'])\n",
    "print(\"T-statistic:\", t_stat)\n",
    "print(\"P-value:\", p_value)\n",
    "if p_value < alpha:\n",
    "    print('There are significant differences between the groups.')\n",
    "else:\n",
    "    print('There are no significant differences between the groups.')\n",
    "    print('We accept the null hypothesis because P > 0.05')"
   ]
  },
  {
   "cell_type": "code",
   "execution_count": 171,
   "id": "97ef1a7d-1b66-4250-849a-dc5ad33fd7f9",
   "metadata": {},
   "outputs": [
    {
     "name": "stdout",
     "output_type": "stream",
     "text": [
      "T-statistic 2.075152448522026\n",
      "P-value 0.05258330488939683\n",
      "There are no significant differences between these groups.\n",
      "We accept the null hypothesis because P > 0.05\n"
     ]
    }
   ],
   "source": [
    "##Q2: Are there significant differences between week 1 swim miles and week 1 bike miles within team blue?\n",
    "\n",
    "blue_bike_1 = blue_rows['bike1']\n",
    "\n",
    "#testing sig. b/t blue swim1 & bike1\n",
    "\n",
    "t_stat, p_value = ttest_ind(blue_rows['bike1'], blue_rows['swim1'])\n",
    "print('T-statistic', t_stat)\n",
    "print('P-value', p_value)\n",
    "if p_value <= alpha:\n",
    "    print('There are significant differences between these groups.')\n",
    "else:\n",
    "    print('There are no significant differences between these groups.')\n",
    "    print('We accept the null hypothesis because P > 0.05')"
   ]
  },
  {
   "cell_type": "code",
   "execution_count": 172,
   "id": "21e6aa76-fbd3-4ec9-9820-0e6a59ae0ff4",
   "metadata": {},
   "outputs": [
    {
     "name": "stdout",
     "output_type": "stream",
     "text": [
      "F-Statistic: 1.026358300991522\n",
      "P-Value: 0.39243671768120975\n",
      "There are no significant differences between these groups.\n",
      "We accept the null hypothesis because P > 0.05\n"
     ]
    }
   ],
   "source": [
    "##Q3:  Is there a significant difference in week 1 bike miles between team blue, team brown, team yellow, and team gold?\n",
    "\n",
    "yellow_bike_1 = yellow_rows['bike1']\n",
    "gold_bike_1 = gold_rows['bike1']\n",
    "brown_bike_1 = brown_rows['bike1']\n",
    "\n",
    "from scipy.stats import f_oneway\n",
    "\n",
    "f_statistic, p_value = f_oneway(blue_bike_1, yellow_bike_1, gold_bike_1, brown_bike_1)\n",
    "print('F-Statistic:', f_statistic)\n",
    "print('P-Value:', p_value)\n",
    "if p_value <= alpha:\n",
    "    print('There are significant differences between these groups')\n",
    "else:\n",
    "    print('There are no significant differences between these groups.')\n",
    "    print('We accept the null hypothesis because P > 0.05')"
   ]
  },
  {
   "cell_type": "code",
   "execution_count": 173,
   "id": "eb6b27aa-c719-4472-8e3b-f4d52b117c2f",
   "metadata": {},
   "outputs": [
    {
     "name": "stdout",
     "output_type": "stream",
     "text": [
      "F-Statistic: 0.8891358596318838\n",
      "P-Value: 0.4560309132155962\n",
      "There are no significant differences between these groups\n",
      "We accept the null hypothesis because P > 0.05\n"
     ]
    }
   ],
   "source": [
    "##Q4: Is there a significant difference in BMI between all teams? If so which pairs of teams are different?\n",
    "\n",
    "blue_bmi = blue_rows['bmi']\n",
    "brown_bmi = brown_rows['bmi']\n",
    "yellow_bmi = yellow_rows['bmi']\n",
    "gold_bmi = gold_rows['bmi']\n",
    "\n",
    "from scipy.stats import f_oneway\n",
    "\n",
    "f_statistic, p_value = f_oneway(blue_bmi, brown_bmi, yellow_bmi, gold_bmi)\n",
    "print('F-Statistic:', f_statistic)\n",
    "print('P-Value:', p_value)\n",
    "if p_value <= alpha:\n",
    "    print('There are significant differences between these groups')\n",
    "else:\n",
    "    print('There are no significant differences between these groups')\n",
    "    print('We accept the null hypothesis because P > 0.05')"
   ]
  },
  {
   "cell_type": "code",
   "execution_count": null,
   "id": "f6292ac6-d585-4c73-9855-99491c5b97b4",
   "metadata": {},
   "outputs": [],
   "source": []
  }
 ],
 "metadata": {
  "kernelspec": {
   "display_name": "Python 3 (ipykernel)",
   "language": "python",
   "name": "python3"
  },
  "language_info": {
   "codemirror_mode": {
    "name": "ipython",
    "version": 3
   },
   "file_extension": ".py",
   "mimetype": "text/x-python",
   "name": "python",
   "nbconvert_exporter": "python",
   "pygments_lexer": "ipython3",
   "version": "3.11.7"
  }
 },
 "nbformat": 4,
 "nbformat_minor": 5
}
